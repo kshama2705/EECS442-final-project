{
 "cells": [
  {
   "cell_type": "code",
   "execution_count": null,
   "metadata": {},
   "outputs": [],
   "source": [
    "!git clone https://github.com/ultralytics/yolov5\n",
    "%pip install -qr requirements.txt"
   ]
  },
  {
   "cell_type": "code",
   "execution_count": 2,
   "metadata": {},
   "outputs": [],
   "source": [
    "import os \n",
    "import glob\n",
    "import shutil\n",
    "from sklearn.model_selection import train_test_split"
   ]
  },
  {
   "cell_type": "code",
   "execution_count": null,
   "metadata": {},
   "outputs": [],
   "source": [
    "# Read images and annotations\n",
    "images = glob.glob(\"./data/data/images/*\")\n",
    "labels = glob.glob(\"./data/data/labels/*\")\n",
    "\n",
    "images.sort()\n",
    "labels.sort()\n",
    "\n",
    "# Split the dataset into train-valid-test splits \n",
    "train_images, val_images, train_labels, val_labels = train_test_split(images, labels, test_size = 0.2, random_state = 442)\n",
    "val_images, test_images, val_labels, test_labels = train_test_split(val_images, val_labels, test_size = 0.5, random_state = 442)"
   ]
  },
  {
   "cell_type": "code",
   "execution_count": null,
   "metadata": {},
   "outputs": [],
   "source": [
    "!mkdir ./data/data/train ./data/data/valid ./data/data/test\n",
    "!mkdir ./data/data/train/images ./data/data/train/labels ./data/data/valid/images ./data/data/valid/labels ./data/data/test/images ./data/data/test/labels"
   ]
  },
  {
   "cell_type": "code",
   "execution_count": null,
   "metadata": {},
   "outputs": [],
   "source": [
    "#Utility function to move images \n",
    "def move_files(files, folder):\n",
    "    for f in files:\n",
    "        shutil.move(f, folder)\n",
    "\n",
    "# Move the splits into their folders\n",
    "move_files(train_images, './data/data/train/images')\n",
    "move_files(val_images, './data/data/valid/images')\n",
    "move_files(test_images, './data/data/test/images')\n",
    "move_files(train_labels, './data/data/train/labels')\n",
    "move_files(val_labels, './data/data/valid/labels')\n",
    "move_files(test_labels, './data/data/test/labels')"
   ]
  },
  {
   "cell_type": "code",
   "execution_count": null,
   "metadata": {},
   "outputs": [],
   "source": [
    "%cd yolov5"
   ]
  },
  {
   "cell_type": "code",
   "execution_count": null,
   "metadata": {},
   "outputs": [],
   "source": [
    "!python train.py --img 1024 --batch 8 --epochs 20 --data data.yaml --weights yolov5s.pt"
   ]
  }
 ],
 "metadata": {
  "kernelspec": {
   "display_name": "Python 3",
   "language": "python",
   "name": "python3"
  },
  "language_info": {
   "codemirror_mode": {
    "name": "ipython",
    "version": 3
   },
   "file_extension": ".py",
   "mimetype": "text/x-python",
   "name": "python",
   "nbconvert_exporter": "python",
   "pygments_lexer": "ipython3",
   "version": "3.6.9"
  }
 },
 "nbformat": 4,
 "nbformat_minor": 2
}
