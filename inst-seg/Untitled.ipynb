{
 "cells": [
  {
   "cell_type": "code",
   "execution_count": 21,
   "id": "c8843e32",
   "metadata": {},
   "outputs": [],
   "source": [
    "import numpy as np\n",
    "import torch\n",
    "import torch.nn as nn\n",
    "import cv2\n",
    "import os\n",
    "import matplotlib.pyplot as plt"
   ]
  },
  {
   "cell_type": "code",
   "execution_count": 20,
   "id": "9927e849",
   "metadata": {
    "scrolled": false
   },
   "outputs": [],
   "source": [
    "DATA_PATH = \"../../data/\"\n",
    "SEMANTICS_PATH = os.path.join(DATA_PATH, \"data_semantics\")\n",
    "TRAIN_PATH = os.path.join(SEMANTICS_PATH, \"training\")\n",
    "TRAIN_RGB_PATH = os.path.join(TRAIN_PATH, \"image_2\")\n",
    "TRAIN_SEMANTIC_PATH = os.path.join(TRAIN_PATH, \"semantic\")\n",
    "\n",
    "rgbs = os.listdir(TRAIN_RGB_PATH)\n",
    "semantics = os.listdir(TRAIN_SEMANTIC_PATH)"
   ]
  },
  {
   "cell_type": "code",
   "execution_count": 33,
   "id": "74ebfa41",
   "metadata": {},
   "outputs": [
    {
     "name": "stdout",
     "output_type": "stream",
     "text": [
      "torch.Size([1, 3, 360, 360])\n",
      "torch.Size([1, 6, 356, 356])\n",
      "torch.Size([1, 6, 178, 178])\n",
      "torch.Size([1, 3, 356, 356])\n",
      "torch.Size([1, 6, 352, 352])\n"
     ]
    }
   ],
   "source": [
    "class HorizontalBlock(nn.Module):\n",
    "    def __init__(self, input_dim, output_dim):\n",
    "        super().__init__()\n",
    "        self.conv1 = nn.Conv2d(input_dim, output_dim, kernel_size=3)\n",
    "        self.conv2 = nn.Conv2d(output_dim, output_dim, kernel_size=3)\n",
    "        self.relu = nn.LeakyReLU(inplace=True)\n",
    "        self.bn = nn.BatchNorm2d(output_dim)\n",
    "    \n",
    "    def forward(self, x):\n",
    "        x = self.conv1(x)\n",
    "        x = self.bn(x)\n",
    "        x = self.relu(x)\n",
    "        x = self.conv2(x)\n",
    "        x = self.bn(x)\n",
    "        x = self.relu(x)\n",
    "        return x\n",
    "\n",
    "class DownBlock(nn.Module):\n",
    "    def __init__(self):\n",
    "        super().__init__()\n",
    "        self.max_pool = nn.MaxPool2d(2)\n",
    "        \n",
    "    def forward(self, x):\n",
    "        return self.max_pool(x)\n",
    "    \n",
    "class UpBlock(nn.Module):\n",
    "    def __init__(self, input_dim):\n",
    "        super().__init__()        \n",
    "        self.tconv = nn.ConvTranspose2d(input_dim, input_dim//2, kernel_size=2, stride=2)\n",
    "    \n",
    "    def forward(self, x):\n",
    "        x = self.tconv(x)\n",
    "        return x\n",
    "    \n",
    "x = torch.randn(1, 3, 360, 360)\n",
    "hb = HorizontalBlock(3, 6)\n",
    "y = hb(x)\n",
    "print(x.shape)\n",
    "print(y.shape)\n",
    "\n",
    "db = DownBlock()\n",
    "y1 = db(y)\n",
    "print(y1.shape)\n",
    "\n",
    "ub = UpBlock(6)\n",
    "y2 = ub(y1)\n",
    "print(y2.shape)\n",
    "\n",
    "y3 = hb(y2)\n",
    "print(y3.shape)"
   ]
  },
  {
   "cell_type": "code",
   "execution_count": null,
   "id": "ac555159",
   "metadata": {},
   "outputs": [],
   "source": []
  }
 ],
 "metadata": {
  "kernelspec": {
   "display_name": "Python 3 (ipykernel)",
   "language": "python",
   "name": "python3"
  },
  "language_info": {
   "codemirror_mode": {
    "name": "ipython",
    "version": 3
   },
   "file_extension": ".py",
   "mimetype": "text/x-python",
   "name": "python",
   "nbconvert_exporter": "python",
   "pygments_lexer": "ipython3",
   "version": "3.9.7"
  }
 },
 "nbformat": 4,
 "nbformat_minor": 5
}
